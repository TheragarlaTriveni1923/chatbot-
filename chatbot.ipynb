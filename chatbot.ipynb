{
  "cells": [
    {
      "cell_type": "markdown",
      "metadata": {
        "id": "view-in-github",
        "colab_type": "text"
      },
      "source": [
        "<a href=\"https://colab.research.google.com/github/TheragarlaTriveni1923/chatbot-/blob/main/chatbot.ipynb\" target=\"_parent\"><img src=\"https://colab.research.google.com/assets/colab-badge.svg\" alt=\"Open In Colab\"/></a>"
      ]
    },
    {
      "cell_type": "code",
      "execution_count": null,
      "metadata": {
        "id": "vfZZ3MLwPt7l",
        "colab": {
          "base_uri": "https://localhost:8080/"
        },
        "outputId": "cc3ac50a-99e8-4f4b-d406-2fe8f67bc14a"
      },
      "outputs": [
        {
          "output_type": "stream",
          "name": "stdout",
          "text": [
            "What is your name?\n",
            "Triveni Theragarla\n",
            "Hi Triveni Theragarla, I am Rule-Bot. Will you help me learn about your planet?\n",
            "yes\n",
            "what planets have you visited?earth\n",
            "Interesting. Can you tell me more?\n",
            "bye\n",
            "Okay, have a nice Earth day!\n"
          ]
        }
      ],
      "source": [
        "### Internship on \"Data Science\" at InfraBIM Techno Solutions\n",
        "#### Project -\n",
        "Name:Triveni Theragarla\n",
        "Email Id:trivenitheragarla0219@gmail.com\n",
        "Date:19-nov-2023\n",
        "### Problem Statement\n",
        "#Write Problem Statement here...\n",
        "\n",
        "\n",
        "import re\n",
        "import random\n",
        "class RuleBot:\n",
        "  ###potential negative responses\n",
        "  negative_responses=(\"no\",\"nope\",\"nah\",\"naw\",\"not a chance\",\"sorry\")\n",
        "  ###exit conversation keywoeds\n",
        "  exit_command=(\"quit\",\"pause\",\"exit\",\"goodbye\",\"bye\",\"later\")\n",
        "  ###random starter question\n",
        "  random_question=(\"why are you here?\"\n",
        "                 \"Are there many humans like you?\",\"what do you consume for sustenance?\",\n",
        "                 \"is there intelligent life on this planet?\",\n",
        "                 \"does earth have a leader?\",\n",
        "                 \"what planets have you visited?\",\"what technology do you have on this planet?\")\n",
        "  def __init__(self):\n",
        "    self.alienbabble={'describe_planet_intent':r'.*\\s*your planet.*',\n",
        "                      'answer_why_intent':r'why\\sare.*',\n",
        "                      'about_intellipat':r'.*\\s*intellipaat',\n",
        "                      'about_session':r'.*\\s*session'}\n",
        "\n",
        "  def greet(self):\n",
        "    self.name=input(\"What is your name?\\n\")\n",
        "    will_help = input(f\"Hi {self.name}, I am Rule-Bot. Will you help me learn about your planet?\\n\")\n",
        "\n",
        "    if will_help in self.negative_responses:\n",
        "      print(\"Ok, have a nice Earth day!\")\n",
        "      return\n",
        "    self.chat()\n",
        "\n",
        "  def make_exit(self, reply):\n",
        "    for command in self.exit_command:\n",
        "      if reply==command:\n",
        "        print(\"Okay, have a nice Earth day!\")\n",
        "        return True\n",
        "\n",
        "  def chat(self):\n",
        "    reply=input(random.choice(self.random_question))\n",
        "    while not self.make_exit(reply):\n",
        "      reply=input(self.match_reply(reply))\n",
        "\n",
        "  def match_reply(self, reply):\n",
        "    for key, value in self.alienbabble.items():\n",
        "      intent = key\n",
        "      regex_pattern=value\n",
        "      found_match=re.match(regex_pattern, reply)\n",
        "      if found_match and intent=='describe_planet_Intent':\n",
        "        return self.describe_planet_intent()\n",
        "      elif found_match and intent == 'answer_why_Intent':\n",
        "        return self.answer_why_intent()\n",
        "      elif found_match and intent =='about_intellipat':\n",
        "        return self.about_intellipat()\n",
        "      elif found_match and intent=='about_session':\n",
        "        return self.about_session()\n",
        "    if not found_match:\n",
        "          return self.no_match_intent()\n",
        "  def decsribe_planet_intent(self):\n",
        "    responses=(\"my planet is a utopia of diverse organisms and species.\\n\",\"I am from opidipus,the capital of the wayward galaxies.\\n\")\n",
        "    return random.choice(responses)\n",
        "  def answer_why_intent(self):\n",
        "    responses = (\"I come in peace\\n\", \"I am here to collect data on your planet and its inhabitants\\n\", \"I heard the coffee is good\\n\")\n",
        "    return random.choice (responses)\n",
        "  def about_intellipat (self):\n",
        "    responses = (\"Intellipaat is world's largest professional educational company\\n\", \"Intellipaat will make you learn concepts in the way never leave \",\"Intellipaat is where your career and skill grows\\n\")\n",
        "    return \"Intellipaat is Great place to Learn \\n\"\n",
        "  def about_session(self):\n",
        "    responses = (\"session is on 11th Nov 2022\\n\",'session was cool')\n",
        "    return random.choice (responses)\n",
        "\n",
        "  def no_match_intent(self):\n",
        "    responses = (\"Please tell me more.\\n\", \"Tell me more! \\n\", \"Why do you say that?\\n\", \"I see. Can you elaborate?\\n\",\"Interesting. Can you tell me more?\\n\", \"I see. How do you think?\\n\", \"Why?\\n\", \"How do you think I feel when you say that?\\n\")\n",
        "    return random.choice(responses)\n",
        "AlienBot= RuleBot()\n",
        "AlienBot.greet()\n"
      ]
    },
    {
      "cell_type": "code",
      "execution_count": null,
      "metadata": {
        "colab": {
          "base_uri": "https://localhost:8080/"
        },
        "id": "UbH-Q9BXheT7",
        "outputId": "6bd7d27f-b47c-4da9-e423-84a41c81d546"
      },
      "outputs": [
        {
          "output_type": "stream",
          "name": "stdout",
          "text": [
            "Overwriting app.py\n"
          ]
        }
      ],
      "source": [
        "%%writefile app.py\n",
        "import streamlit as st\n",
        "st.title(\"chatbot\")\n",
        "st.write(\"\"\"#explore different classifier which one is the best?\"\"\")\n",
        "with st.chat_message(name=\"assistant\"):\n",
        "  st.write(\"Hello 👋\")\n",
        "prompt=st.chat_input(\"say something\")\n",
        "if prompt:\n",
        "   st.write(f\"{prompt}\")\n",
        "if \"messages\" not in st.session_state:\n",
        "    st.session_state.messages=[]\n",
        "###perfect code\n",
        "for message in st.session_state.messages:\n",
        "    with st.chat_message(message[\"role\"]):\n",
        "        st.markdown(message[\"content\"])\n",
        "rs=random.RuleBot()\n",
        "st.write(rs.greet())\n",
        "st.write(rs.make_exit(self, reply))\n",
        "st.write(rs.decsribe_planet_intent())\n",
        "st.write(rs.answer_why_intent())\n",
        "st.write(rs.about_intellipat ())\n",
        "st.write(rs.about_session())\n",
        "st.write(rs.no_match_intent())\n"
      ]
    },
    {
      "cell_type": "code",
      "execution_count": null,
      "metadata": {
        "colab": {
          "base_uri": "https://localhost:8080/"
        },
        "id": "PASqexDLFXUB",
        "outputId": "74732c30-92e8-4928-fc93-941cc19ecda7"
      },
      "outputs": [
        {
          "output_type": "stream",
          "name": "stdout",
          "text": [
            "34.86.131.62\n"
          ]
        }
      ],
      "source": [
        "!wget -q -O - ipv4.icanhazip.com"
      ]
    },
    {
      "cell_type": "code",
      "execution_count": 4,
      "metadata": {
        "colab": {
          "base_uri": "https://localhost:8080/"
        },
        "id": "dKVLLXOI0Wc8",
        "outputId": "0f68f94d-c0a2-45e4-c625-c0629c69a61b"
      },
      "outputs": [
        {
          "output_type": "stream",
          "name": "stdout",
          "text": [
            "/bin/bash: line 1: streamlit: command not found\n",
            "\u001b[K\u001b[?25hnpx: installed 22 in 2.217s\n",
            "your url is: https://wet-ties-kiss.loca.lt\n",
            "^C\n"
          ]
        }
      ],
      "source": [
        "! streamlit run app.py & npx localtunnel --port 8501"
      ]
    }
  ],
  "metadata": {
    "colab": {
      "provenance": [],
      "include_colab_link": true
    },
    "kernelspec": {
      "display_name": "Python 3",
      "name": "python3"
    },
    "language_info": {
      "name": "python"
    }
  },
  "nbformat": 4,
  "nbformat_minor": 0
}